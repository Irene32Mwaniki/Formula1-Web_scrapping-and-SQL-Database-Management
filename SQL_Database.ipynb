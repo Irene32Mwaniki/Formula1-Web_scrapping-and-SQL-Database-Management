{
 "cells": [
  {
   "cell_type": "code",
   "execution_count": 1,
   "id": "32ff7d7b-47f8-4342-ba3a-1db904d4d19b",
   "metadata": {},
   "outputs": [],
   "source": [
    "# defining the database schema using SQLAlchemy "
   ]
  },
  {
   "cell_type": "code",
   "execution_count": 2,
   "id": "b17e9d06-0e22-4f1e-9b3f-c05c3d5c2911",
   "metadata": {},
   "outputs": [
    {
     "name": "stdout",
     "output_type": "stream",
     "text": [
      "Requirement already satisfied: pandas in d:\\new folder\\lib\\site-packages (2.1.4)\n",
      "Requirement already satisfied: sqlalchemy in d:\\new folder\\lib\\site-packages (2.0.25)\n",
      "Requirement already satisfied: openpyxl in d:\\new folder\\lib\\site-packages (3.0.10)\n",
      "Requirement already satisfied: mysqlclient in d:\\new folder\\lib\\site-packages (2.2.5)\n",
      "Requirement already satisfied: pymysql in d:\\new folder\\lib\\site-packages (1.1.1)\n",
      "Requirement already satisfied: numpy in d:\\new folder\\lib\\site-packages (1.26.4)\n",
      "Requirement already satisfied: python-dateutil>=2.8.2 in d:\\new folder\\lib\\site-packages (from pandas) (2.8.2)\n",
      "Requirement already satisfied: pytz>=2020.1 in d:\\new folder\\lib\\site-packages (from pandas) (2023.3.post1)\n",
      "Requirement already satisfied: tzdata>=2022.1 in d:\\new folder\\lib\\site-packages (from pandas) (2023.3)\n",
      "Requirement already satisfied: typing-extensions>=4.6.0 in d:\\new folder\\lib\\site-packages (from sqlalchemy) (4.9.0)\n",
      "Requirement already satisfied: greenlet!=0.4.17 in d:\\new folder\\lib\\site-packages (from sqlalchemy) (3.0.1)\n",
      "Requirement already satisfied: et_xmlfile in d:\\new folder\\lib\\site-packages (from openpyxl) (1.1.0)\n",
      "Requirement already satisfied: six>=1.5 in d:\\new folder\\lib\\site-packages (from python-dateutil>=2.8.2->pandas) (1.16.0)\n"
     ]
    }
   ],
   "source": [
    "!pip install pandas sqlalchemy openpyxl mysqlclient pymysql numpy\n"
   ]
  },
  {
   "cell_type": "code",
   "execution_count": 3,
   "id": "1fcaadd3-b3d6-4de8-9711-f5b0fc4b3f88",
   "metadata": {},
   "outputs": [],
   "source": [
    "# connect to MySql using sqlalchemy \n",
    "from sqlalchemy import create_engine\n",
    "\n",
    "database_type = 'mysql'\n",
    "host = 'localhost'\n",
    "port = '3306'\n",
    "database_name = 'formula_1_project' \n",
    "username = 'User'\n",
    "password = 'Formula1_Content_369'\n",
    "\n",
    "engine = create_engine(f'mysql+pymysql://{username}:{password}@{host}/{database_name}', pool_pre_ping=True)"
   ]
  },
  {
   "cell_type": "code",
   "execution_count": 4,
   "id": "785b3e72-79ca-44fb-9e48-2bc90fce8670",
   "metadata": {},
   "outputs": [],
   "source": [
    "# import the relevant sqlalchemy modules and functions \n"
   ]
  },
  {
   "cell_type": "code",
   "execution_count": 5,
   "id": "61a8b705-ce8e-433f-9383-0927adc2710f",
   "metadata": {},
   "outputs": [],
   "source": [
    "import pandas as pd \n",
    "import numpy as np\n",
    "from sqlalchemy import create_engine, Column, Integer, String, Float, ForeignKey, Date, Time \n",
    "from sqlalchemy.ext.declarative import declarative_base\n",
    "from sqlalchemy.orm import relationship, sessionmaker \n",
    "from sqlalchemy.orm import Mapped\n",
    "from sqlalchemy.orm import mapped_column\n",
    "from sqlalchemy.orm import registry\n",
    "from sqlalchemy import Numeric\n",
    "from sqlalchemy import MetaData\n",
    "from datetime import datetime\n",
    "from sqlalchemy.ext.declarative import as_declarative, declared_attr\n",
    "from sqlalchemy.exc import IntegrityError\n",
    "from sqlalchemy import UniqueConstraint\n",
    "from datetime import timedelta"
   ]
  },
  {
   "cell_type": "code",
   "execution_count": 6,
   "id": "07f79b30-002f-47d3-b93f-9b5ba28d3e1f",
   "metadata": {},
   "outputs": [],
   "source": [
    "# define the base class "
   ]
  },
  {
   "cell_type": "code",
   "execution_count": 7,
   "id": "d02a2271-730b-4b5e-a302-c7207ecbcba8",
   "metadata": {},
   "outputs": [
    {
     "name": "stderr",
     "output_type": "stream",
     "text": [
      "C:\\Users\\Irene Mwaniki\\AppData\\Local\\Temp\\ipykernel_17344\\3664959158.py:1: MovedIn20Warning: The ``declarative_base()`` function is now available as sqlalchemy.orm.declarative_base(). (deprecated since: 2.0) (Background on SQLAlchemy 2.0 at: https://sqlalche.me/e/b8d9)\n",
      "  Base = declarative_base()\n"
     ]
    }
   ],
   "source": [
    "Base = declarative_base() "
   ]
  },
  {
   "cell_type": "code",
   "execution_count": 8,
   "id": "67c15e46-81ac-4a7d-aaa3-12a268cc3fbb",
   "metadata": {},
   "outputs": [],
   "source": [
    "# populating the database "
   ]
  },
  {
   "cell_type": "code",
   "execution_count": 9,
   "id": "a2d5758b-623c-4bb2-b2b3-258f8a5e17cc",
   "metadata": {},
   "outputs": [],
   "source": [
    "# create a session that connects MySQL to SQLalchemy\n",
    "engine = create_engine(f'mysql+pymysql://{username}:{password}@{host}/{database_name}', pool_pre_ping=True)\n",
    "Base.metadata.bind = engine\n",
    "DBsession = sessionmaker(bind=engine)\n",
    "session = DBsession()"
   ]
  },
  {
   "cell_type": "code",
   "execution_count": 10,
   "id": "0a0bb137-81ef-4daa-9154-f89a8107457d",
   "metadata": {},
   "outputs": [
    {
     "name": "stdout",
     "output_type": "stream",
     "text": [
      "Circuits table created successfully.\n"
     ]
    }
   ],
   "source": [
    "# define the circuits table \n",
    "\n",
    "class Circuit(Base):\n",
    "    __tablename__ = 'circuits'\n",
    "    __table_args__ = {'extend_existing': True} \n",
    "    circuit_id: Mapped[int] = mapped_column(primary_key =True)\n",
    "    circuit_name: Mapped[str] =mapped_column(String(255))\n",
    "    grands_prix: Mapped[str] =mapped_column(String(255))\n",
    "    location: Mapped[str] =mapped_column(String(255))\n",
    "    country: Mapped[str] =mapped_column(String(255))\n",
    "    turns: Mapped[int] =mapped_column(Integer) \n",
    "    length_km : Mapped[float] =mapped_column(Numeric(10,3)) \n",
    "\n",
    "\n",
    "\n",
    "# create the circuit table\n",
    "Base.metadata.create_all(engine, checkfirst = True)\n",
    "\n",
    "\n",
    "# create a session \n",
    "Session = sessionmaker(bind=engine)\n",
    "session = Session()\n",
    "\n",
    "\n",
    "  \n",
    "# load the drivers\n",
    "circuit_file_path = \"D:/Data Science Course/F1 project/f1_circuits.xlsx\"\n",
    "circuit_df = pd.read_excel(circuit_file_path)\n",
    "\n",
    "circuit_df.columns = circuit_df.columns.str.strip()\n",
    "circuit_df['Length_km'] =(\n",
    "    circuit_df['Length_km'] \n",
    "    .astype(str) # ensures that all values are string \n",
    "    .str.replace('km', '', regex=False) # remove the 'km' in the string\n",
    "    .str.strip() # removes leading and trailing whitespaces \n",
    "    .str.replace('\\xa0', '', regex=True) # removes non-breaking spaces \n",
    ")\n",
    "\n",
    "for index, row in circuit_df.iterrows():\n",
    "    circuits = Circuit(\n",
    "        circuit_id =row['Circuit_id'],\n",
    "        circuit_name =row['Circuit_Name'],\n",
    "        grands_prix =row['Grands_Prix'],\n",
    "        location =row['Location'],\n",
    "        country =row['Country'],\n",
    "        turns =row['Turns'],\n",
    "        length_km =row['Length_km'] \n",
    "    )\n",
    "    session.add(circuits)\n",
    "session.commit() \n",
    "print(f\"Circuits table created successfully.\")\n",
    "\n",
    "session.close()"
   ]
  },
  {
   "cell_type": "code",
   "execution_count": 11,
   "id": "ed3d308e-37ae-4d25-a571-1111983a761e",
   "metadata": {},
   "outputs": [
    {
     "name": "stdout",
     "output_type": "stream",
     "text": [
      "Drivers table created successfully.\n"
     ]
    }
   ],
   "source": [
    "# define driver table \n",
    "class Driver(Base):\n",
    "    __tablename__ ='drivers'\n",
    "    __table_args__ = {'extend_existing': True} \n",
    "    first_name: Mapped[str] = mapped_column(String(100))\n",
    "    last_name: Mapped[str] = mapped_column(String(100))\n",
    "    driver_name: Mapped[str] = mapped_column(String(255), primary_key = True)\n",
    "    nationality: Mapped[str] = mapped_column(String(255)) \n",
    "    \n",
    "\n",
    "# create all the tables above \n",
    "Base.metadata.create_all(engine, checkfirst = True)\n",
    "\n",
    "\n",
    "# create a session \n",
    "Session = sessionmaker(bind=engine)\n",
    "session = Session()\n",
    "    \n",
    "# load drivers from the excel files \n",
    "drivers_file_path = \"D:/Data Science Course/F1 project/F1_drivers.xlsx\"\n",
    "drivers_df = pd.read_excel(drivers_file_path)\n",
    "\n",
    "# data cleaning e.g. columns for missing information and remove white spaces. \n",
    "drivers_df.columns = drivers_df.columns.str.strip()\n",
    "\n",
    "for index, row in drivers_df.iterrows():\n",
    "    drivers = Driver(\n",
    "    first_name=row['First_name'],\n",
    "    last_name=row['Last_name'],\n",
    "    driver_name=row['Driver_name'],\n",
    "    nationality=row['nationality']\n",
    "    )\n",
    "    session.add(drivers)\n",
    "session.commit()\n",
    "print(f\"Drivers table created successfully.\")\n",
    "\n",
    "session.close()\n",
    "\n",
    "    "
   ]
  },
  {
   "cell_type": "code",
   "execution_count": 12,
   "id": "45c59eef-9ffd-4e41-959c-00107cef2739",
   "metadata": {},
   "outputs": [
    {
     "name": "stdout",
     "output_type": "stream",
     "text": [
      "Winners table created successfully.\n"
     ]
    }
   ],
   "source": [
    "# define winners tables\n",
    "class Winner(Base):\n",
    "    __tablename__ = 'winners'\n",
    "    __table_args__ = {'extend_existing': True} \n",
    "    winner: Mapped[str] = mapped_column(String(255)) \n",
    "    grand_prix: Mapped[str] = mapped_column(String(255))\n",
    "    date: Mapped[date] = mapped_column(Date, primary_key = True)\n",
    "    car: Mapped[str] = mapped_column(String(255))\n",
    "    laps: Mapped[int] = mapped_column(Integer)\n",
    "    time: Mapped[time] = mapped_column(Time)\n",
    "\n",
    "\n",
    "# create all the tables above \n",
    "Base.metadata.create_all(engine, checkfirst = True)\n",
    "\n",
    "\n",
    "# create a session \n",
    "Session = sessionmaker(bind=engine)\n",
    "session = Session()\n",
    "    \n",
    "winner_file_path = \"D:/Data Science Course/F1 project/f1_data_by_years.xlsx\"\n",
    "winner_df = pd.read_excel(winner_file_path)\n",
    "\n",
    "winner_df.columns = winner_df.columns.str.strip()\n",
    "\n",
    "# convert the date column from excel file to the correct date format (python format) \n",
    "winner_df['Date'] = pd.to_datetime(winner_df['Date'], format='%d %b %Y', errors ='coerce')\n",
    "\n",
    "for index, row in winner_df.iterrows():\n",
    "    winners = Winner(\n",
    "        grand_prix=row['Grand Prix'], \n",
    "        date=row['Date'],\n",
    "        winner=row['Winner'],\n",
    "        car=row['Car'],\n",
    "        laps=row['Laps'],\n",
    "        time= row['Time']\n",
    "    )\n",
    "    session.add(winners)\n",
    "session.commit()\n",
    "print(\"Winners table created successfully.\" )\n",
    "\n",
    "\n",
    "session.close()"
   ]
  },
  {
   "cell_type": "code",
   "execution_count": 13,
   "id": "0ca67223-c913-48c7-8ba6-d9581bfdc6a3",
   "metadata": {},
   "outputs": [
    {
     "name": "stdout",
     "output_type": "stream",
     "text": [
      "Data for year 2011:\n",
      "  Country Position  Driver Number            Driver Driver Abbreviation  \\\n",
      "0  Turkey        1              1  Sebastian Vettel                 VET   \n",
      "1  Turkey        2              2       Mark Webber                 WEB   \n",
      "2  Turkey        3              8      Nico Rosberg                 ROS   \n",
      "3  Turkey        4              3    Lewis Hamilton                 HAM   \n",
      "4  Turkey        5              5   Fernando Alonso                 ALO   \n",
      "\n",
      "                       Car        Q1               Q2               Q3  Laps  \n",
      "0  Red Bull Racing Renault  0.001007         00:01:26  00:01:25.049000    12  \n",
      "1  Red Bull Racing Renault  0.001008  00:01:26.075000  00:01:25.454000    10  \n",
      "2                 Mercedes  0.001013  00:01:25.801000  00:01:25.574000    15  \n",
      "3         McLaren Mercedes  0.001008  00:01:26.066000  00:01:25.595000    13  \n",
      "4                  Ferrari  0.001011  00:01:26.152000  00:01:25.851000    16  \n"
     ]
    },
    {
     "name": "stderr",
     "output_type": "stream",
     "text": [
      "C:\\Users\\Irene Mwaniki\\AppData\\Local\\Temp\\ipykernel_17344\\3354632263.py:4: SAWarning: This declarative base already contains a class with the same class name and module name as __main__.QualifyingResult, and will be replaced in the string-lookup table.\n",
      "  class QualifyingResult(Base):\n"
     ]
    },
    {
     "name": "stdout",
     "output_type": "stream",
     "text": [
      "Data for year 2012:\n",
      "     Country Position  Driver Number            Driver Driver Abbreviation  \\\n",
      "0  Abu Dhabi        1              4    Lewis Hamilton                 HAM   \n",
      "1  Abu Dhabi        2              2       Mark Webber                 WEB   \n",
      "2  Abu Dhabi       RT              1  Sebastian Vettel                 VET   \n",
      "3  Abu Dhabi        3             18  Pastor Maldonado                 MAL   \n",
      "4  Abu Dhabi        4              9    Kimi Räikkönen                 RAI   \n",
      "\n",
      "                       Car               Q1               Q2               Q3  \\\n",
      "0         McLaren Mercedes  00:01:41.497000  00:01:40.901000  00:01:40.630000   \n",
      "1  Red Bull Racing Renault  00:01:41.933000  00:01:41.277000  00:01:40.978000   \n",
      "2  Red Bull Racing Renault  00:01:42.160000  00:01:41.511000  00:01:41.073000   \n",
      "3         Williams Renault  00:01:41.981000  00:01:41.907000  00:01:41.226000   \n",
      "4            Lotus Renault  00:01:42.222000  00:01:41.532000  00:01:41.260000   \n",
      "\n",
      "   Laps  \n",
      "0    15  \n",
      "1    17  \n",
      "2    16  \n",
      "3    22  \n",
      "4    20  \n"
     ]
    },
    {
     "name": "stderr",
     "output_type": "stream",
     "text": [
      "C:\\Users\\Irene Mwaniki\\AppData\\Local\\Temp\\ipykernel_17344\\3354632263.py:4: SAWarning: This declarative base already contains a class with the same class name and module name as __main__.QualifyingResult, and will be replaced in the string-lookup table.\n",
      "  class QualifyingResult(Base):\n"
     ]
    },
    {
     "name": "stdout",
     "output_type": "stream",
     "text": [
      "Data for year 2013:\n",
      "  Country Position  Driver Number            Driver Driver Abbreviation  \\\n",
      "0     USA        1              1  Sebastian Vettel                 VET   \n",
      "1     USA        2              2       Mark Webber                 WEB   \n",
      "2     USA        3              8   Romain Grosjean                 GRO   \n",
      "3     USA        4             11   Nico Hulkenberg                 HUL   \n",
      "4     USA        5             10    Lewis Hamilton                 HAM   \n",
      "\n",
      "                       Car               Q1               Q2               Q3  \\\n",
      "0  Red Bull Racing Renault  00:01:38.516000  00:01:37.065000  00:01:36.338000   \n",
      "1  Red Bull Racing Renault  00:01:38.161000  00:01:37.312000  00:01:36.441000   \n",
      "2            Lotus Renault  00:01:38.676000  00:01:37.523000  00:01:37.155000   \n",
      "3           Sauber Ferrari  00:01:38.339000  00:01:37.828000  00:01:37.296000   \n",
      "4                 Mercedes  00:01:37.959000  00:01:37.854000  00:01:37.345000   \n",
      "\n",
      "   Laps  \n",
      "0    12  \n",
      "1    14  \n",
      "2    17  \n",
      "3    20  \n",
      "4    20  \n"
     ]
    },
    {
     "name": "stderr",
     "output_type": "stream",
     "text": [
      "C:\\Users\\Irene Mwaniki\\AppData\\Local\\Temp\\ipykernel_17344\\3354632263.py:4: SAWarning: This declarative base already contains a class with the same class name and module name as __main__.QualifyingResult, and will be replaced in the string-lookup table.\n",
      "  class QualifyingResult(Base):\n"
     ]
    },
    {
     "name": "stdout",
     "output_type": "stream",
     "text": [
      "Data for year 2014:\n",
      "  Country Position  Driver Number            Driver Driver Abbreviation  \\\n",
      "0     USA        1              6      Nico Rosberg                 ROS   \n",
      "1     USA        2             44    Lewis Hamilton                 HAM   \n",
      "2     USA        3             77   Valtteri Bottas                 BOT   \n",
      "3     USA        4             19      Felipe Massa                 MAS   \n",
      "4     USA        5              3  Daniel Ricciardo                 RIC   \n",
      "\n",
      "                       Car               Q1               Q2               Q3  \\\n",
      "0                 Mercedes  00:01:38.303000  00:01:36.290000  00:01:36.067000   \n",
      "1                 Mercedes  00:01:37.196000  00:01:37.287000  00:01:36.443000   \n",
      "2        Williams Mercedes  00:01:38.249000  00:01:37.499000  00:01:36.906000   \n",
      "3        Williams Mercedes  00:01:37.877000  00:01:37.347000  00:01:37.205000   \n",
      "4  Red Bull Racing Renault  00:01:38.814000  00:01:37.873000  00:01:37.244000   \n",
      "\n",
      "   Laps  \n",
      "0    20  \n",
      "1    16  \n",
      "2    19  \n",
      "3    20  \n",
      "4    17  \n"
     ]
    },
    {
     "name": "stderr",
     "output_type": "stream",
     "text": [
      "C:\\Users\\Irene Mwaniki\\AppData\\Local\\Temp\\ipykernel_17344\\3354632263.py:4: SAWarning: This declarative base already contains a class with the same class name and module name as __main__.QualifyingResult, and will be replaced in the string-lookup table.\n",
      "  class QualifyingResult(Base):\n"
     ]
    },
    {
     "name": "stdout",
     "output_type": "stream",
     "text": [
      "Data for year 2015:\n",
      "     Country Position  Driver Number            Driver Driver Abbreviation  \\\n",
      "0  Abu Dhabi        1              6      Nico Rosberg                 ROS   \n",
      "1  Abu Dhabi        2             44    Lewis Hamilton                 HAM   \n",
      "2  Abu Dhabi        3              7    Kimi Räikkönen                 RAI   \n",
      "3  Abu Dhabi        4             11      Sergio Perez                 PER   \n",
      "4  Abu Dhabi        5              3  Daniel Ricciardo                 RIC   \n",
      "\n",
      "                       Car               Q1               Q2               Q3  \\\n",
      "0                 Mercedes  00:01:41.111000  00:01:40.979000  00:01:40.237000   \n",
      "1                 Mercedes  00:01:40.974000  00:01:40.758000  00:01:40.614000   \n",
      "2                  Ferrari  00:01:42.500000  00:01:41.612000  00:01:41.051000   \n",
      "3     Force India Mercedes  00:01:41.983000  00:01:41.560000  00:01:41.184000   \n",
      "4  Red Bull Racing Renault  00:01:42.275000  00:01:41.830000  00:01:41.444000   \n",
      "\n",
      "   Laps  \n",
      "0    12  \n",
      "1    12  \n",
      "2    14  \n",
      "3    18  \n",
      "4    17  \n"
     ]
    },
    {
     "name": "stderr",
     "output_type": "stream",
     "text": [
      "C:\\Users\\Irene Mwaniki\\AppData\\Local\\Temp\\ipykernel_17344\\3354632263.py:4: SAWarning: This declarative base already contains a class with the same class name and module name as __main__.QualifyingResult, and will be replaced in the string-lookup table.\n",
      "  class QualifyingResult(Base):\n"
     ]
    },
    {
     "name": "stdout",
     "output_type": "stream",
     "text": [
      "Data for year 2016:\n",
      "     Country Position  Driver Number            Driver Driver Abbreviation  \\\n",
      "0  Abu Dhabi        1             44    Lewis Hamilton                 HAM   \n",
      "1  Abu Dhabi        2              6      Nico Rosberg                 ROS   \n",
      "2  Abu Dhabi        3              3  Daniel Ricciardo                 RIC   \n",
      "3  Abu Dhabi        4              7    Kimi Räikkönen                 RAI   \n",
      "4  Abu Dhabi        5              5  Sebastian Vettel                 VET   \n",
      "\n",
      "                         Car               Q1               Q2  \\\n",
      "0                   Mercedes  00:01:39.487000  00:01:39.382000   \n",
      "1                   Mercedes  00:01:40.511000  00:01:39.490000   \n",
      "2  Red Bull Racing TAG Heuer  00:01:41.002000  00:01:40.429000   \n",
      "3                    Ferrari  00:01:40.338000  00:01:39.629000   \n",
      "4                    Ferrari  00:01:40.341000  00:01:40.034000   \n",
      "\n",
      "                Q3  Laps  \n",
      "0  00:01:38.755000    12  \n",
      "1  00:01:39.058000    12  \n",
      "2  00:01:39.589000    17  \n",
      "3  00:01:39.604000    14  \n",
      "4  00:01:39.661000    14  \n"
     ]
    },
    {
     "name": "stderr",
     "output_type": "stream",
     "text": [
      "C:\\Users\\Irene Mwaniki\\AppData\\Local\\Temp\\ipykernel_17344\\3354632263.py:4: SAWarning: This declarative base already contains a class with the same class name and module name as __main__.QualifyingResult, and will be replaced in the string-lookup table.\n",
      "  class QualifyingResult(Base):\n"
     ]
    },
    {
     "name": "stdout",
     "output_type": "stream",
     "text": [
      "Data for year 2017:\n",
      "     Country Position  Driver Number            Driver Driver Abbreviation  \\\n",
      "0  Abu Dhabi        1             77   Valtteri Bottas                 BOT   \n",
      "1  Abu Dhabi        2             44    Lewis Hamilton                 HAM   \n",
      "2  Abu Dhabi        3              5  Sebastian Vettel                 VET   \n",
      "3  Abu Dhabi        4              3  Daniel Ricciardo                 RIC   \n",
      "4  Abu Dhabi        5              7    Kimi Räikkönen                 RAI   \n",
      "\n",
      "                         Car               Q1               Q2  \\\n",
      "0                   Mercedes  00:01:37.356000  00:01:36.822000   \n",
      "1                   Mercedes  00:01:37.391000  00:01:36.742000   \n",
      "2                    Ferrari  00:01:37.817000  00:01:37.023000   \n",
      "3  Red Bull Racing TAG Heuer  00:01:38.016000  00:01:37.583000   \n",
      "4                    Ferrari  00:01:37.453000  00:01:37.302000   \n",
      "\n",
      "                Q3  Laps  \n",
      "0  00:01:36.231000    18  \n",
      "1  00:01:36.403000    19  \n",
      "2  00:01:36.777000    18  \n",
      "3  00:01:36.959000    16  \n",
      "4  00:01:36.985000    17  \n"
     ]
    },
    {
     "name": "stderr",
     "output_type": "stream",
     "text": [
      "C:\\Users\\Irene Mwaniki\\AppData\\Local\\Temp\\ipykernel_17344\\3354632263.py:4: SAWarning: This declarative base already contains a class with the same class name and module name as __main__.QualifyingResult, and will be replaced in the string-lookup table.\n",
      "  class QualifyingResult(Base):\n"
     ]
    },
    {
     "name": "stdout",
     "output_type": "stream",
     "text": [
      "Data for year 2018:\n",
      "     Country Position  Driver Number            Driver Driver Abbreviation  \\\n",
      "0  Abu Dhabi        1             77   Valtteri Bottas                 BOT   \n",
      "1  Abu Dhabi        2             44    Lewis Hamilton                 HAM   \n",
      "2  Abu Dhabi        3              5  Sebastian Vettel                 VET   \n",
      "3  Abu Dhabi        4              3  Daniel Ricciardo                 RIC   \n",
      "4  Abu Dhabi        5              7    Kimi Räikkönen                 RAI   \n",
      "\n",
      "                         Car               Q1               Q2  \\\n",
      "0                   Mercedes  00:01:37.356000  00:01:36.822000   \n",
      "1                   Mercedes  00:01:37.391000  00:01:36.742000   \n",
      "2                    Ferrari  00:01:37.817000  00:01:37.023000   \n",
      "3  Red Bull Racing TAG Heuer  00:01:38.016000  00:01:37.583000   \n",
      "4                    Ferrari  00:01:37.453000  00:01:37.302000   \n",
      "\n",
      "                Q3  Laps  \n",
      "0  00:01:36.231000    18  \n",
      "1  00:01:36.403000    19  \n",
      "2  00:01:36.777000    18  \n",
      "3  00:01:36.959000    16  \n",
      "4  00:01:36.985000    17  \n"
     ]
    },
    {
     "name": "stderr",
     "output_type": "stream",
     "text": [
      "C:\\Users\\Irene Mwaniki\\AppData\\Local\\Temp\\ipykernel_17344\\3354632263.py:4: SAWarning: This declarative base already contains a class with the same class name and module name as __main__.QualifyingResult, and will be replaced in the string-lookup table.\n",
      "  class QualifyingResult(Base):\n"
     ]
    },
    {
     "name": "stdout",
     "output_type": "stream",
     "text": [
      "Data for year 2019:\n",
      "     Country Position  Driver Number            Driver Driver Abbreviation  \\\n",
      "0  Abu Dhabi        1             44    Lewis Hamilton                 HAM   \n",
      "1  Abu Dhabi        2             77   Valtteri Bottas                 BOT   \n",
      "2  Abu Dhabi        3             33    Max Verstappen                 VER   \n",
      "3  Abu Dhabi        4             16   Charles Leclerc                 LEC   \n",
      "4  Abu Dhabi        5              5  Sebastian Vettel                 VET   \n",
      "\n",
      "                     Car               Q1               Q2               Q3  \\\n",
      "0               Mercedes  00:01:35.851000  00:01:35.634000  00:01:34.779000   \n",
      "1               Mercedes  00:01:36.200000  00:01:35.674000  00:01:34.973000   \n",
      "2  Red Bull Racing Honda  00:01:36.390000  00:01:36.275000  00:01:35.139000   \n",
      "3                Ferrari  00:01:36.478000  00:01:35.543000  00:01:35.219000   \n",
      "4                Ferrari  00:01:36.963000  00:01:35.786000  00:01:35.339000   \n",
      "\n",
      "   Laps  \n",
      "0    19  \n",
      "1    16  \n",
      "2    16  \n",
      "3    16  \n",
      "4    16  \n"
     ]
    },
    {
     "name": "stderr",
     "output_type": "stream",
     "text": [
      "C:\\Users\\Irene Mwaniki\\AppData\\Local\\Temp\\ipykernel_17344\\3354632263.py:4: SAWarning: This declarative base already contains a class with the same class name and module name as __main__.QualifyingResult, and will be replaced in the string-lookup table.\n",
      "  class QualifyingResult(Base):\n"
     ]
    },
    {
     "name": "stdout",
     "output_type": "stream",
     "text": [
      "Data for year 2020:\n",
      "                      Country  Position  Driver Number            Driver  \\\n",
      "0  Emirates 70th anniversary          1             77   Valtteri Bottas   \n",
      "1  Emirates 70th anniversary          2             44    Lewis Hamilton   \n",
      "2  Emirates 70th anniversary          3             27   Nico Hulkenberg   \n",
      "3  Emirates 70th anniversary          4             33    Max Verstappen   \n",
      "4  Emirates 70th anniversary          5              3  Daniel Ricciardo   \n",
      "\n",
      "  Driver Abbreviation                        Car               Q1  \\\n",
      "0                 BOT                   Mercedes  00:01:26.738000   \n",
      "1                 HAM                   Mercedes  00:01:26.818000   \n",
      "2                 HUL  Racing Point BWT Mercedes  00:01:27.279000   \n",
      "3                 VER      Red Bull Racing Honda  00:01:27.154000   \n",
      "4                 RIC                    Renault  00:01:27.442000   \n",
      "\n",
      "                Q2               Q3  Laps  \n",
      "0  00:01:25.785000  00:01:25.154000    20  \n",
      "1  00:01:26.266000  00:01:25.217000    20  \n",
      "2  00:01:26.261000  00:01:26.082000    18  \n",
      "3  00:01:26.779000  00:01:26.176000    12  \n",
      "4  00:01:26.636000  00:01:26.297000    14  \n"
     ]
    },
    {
     "name": "stderr",
     "output_type": "stream",
     "text": [
      "C:\\Users\\Irene Mwaniki\\AppData\\Local\\Temp\\ipykernel_17344\\3354632263.py:4: SAWarning: This declarative base already contains a class with the same class name and module name as __main__.QualifyingResult, and will be replaced in the string-lookup table.\n",
      "  class QualifyingResult(Base):\n"
     ]
    },
    {
     "name": "stdout",
     "output_type": "stream",
     "text": [
      "Data for year 2021:\n",
      "  Country Position  Driver Number           Driver Driver Abbreviation  \\\n",
      "0     USA        1             33   Max Verstappen                 VER   \n",
      "1     USA        2             44   Lewis Hamilton                 HAM   \n",
      "2     USA        3             11     Sergio Perez                 PER   \n",
      "3     USA        4             77  Valtteri Bottas                 BOT   \n",
      "4     USA        5             16  Charles Leclerc                 LEC   \n",
      "\n",
      "                     Car               Q1               Q2               Q3  \\\n",
      "0  Red Bull Racing Honda  00:01:34.352000  00:01:33.464000  00:01:32.910000   \n",
      "1               Mercedes  00:01:34.579000  00:01:33.797000  00:01:33.119000   \n",
      "2  Red Bull Racing Honda  00:01:34.369000  00:01:34.178000  00:01:33.134000   \n",
      "3               Mercedes  00:01:34.590000  00:01:33.959000  00:01:33.475000   \n",
      "4                Ferrari  00:01:34.153000  00:01:33.928000  00:01:33.606000   \n",
      "\n",
      "   Laps  \n",
      "0    16  \n",
      "1    16  \n",
      "2    19  \n",
      "3    15  \n",
      "4    17  \n"
     ]
    },
    {
     "name": "stderr",
     "output_type": "stream",
     "text": [
      "C:\\Users\\Irene Mwaniki\\AppData\\Local\\Temp\\ipykernel_17344\\3354632263.py:4: SAWarning: This declarative base already contains a class with the same class name and module name as __main__.QualifyingResult, and will be replaced in the string-lookup table.\n",
      "  class QualifyingResult(Base):\n"
     ]
    },
    {
     "name": "stdout",
     "output_type": "stream",
     "text": [
      "Data for year 2022:\n",
      "     Country Position  Driver Number           Driver Driver Abbreviation  \\\n",
      "0  Australia        1             16  Charles Leclerc                 LEC   \n",
      "1  Australia        2              1   Max Verstappen                 VER   \n",
      "2  Australia        3             11     Sergio Perez                 PER   \n",
      "3  Australia        4              4     Lando Norris                 NOR   \n",
      "4  Australia        5             44   Lewis Hamilton                 HAM   \n",
      "\n",
      "                    Car               Q1               Q2               Q3  \\\n",
      "0               Ferrari  00:01:18.881000  00:01:18.606000  00:01:17.868000   \n",
      "1  Red Bull Racing RBPT  00:01:18.580000  00:01:18.611000  00:01:18.154000   \n",
      "2  Red Bull Racing RBPT  00:01:18.834000  00:01:18.340000  00:01:18.240000   \n",
      "3      McLaren Mercedes  00:01:19.280000  00:01:19.066000  00:01:18.703000   \n",
      "4              Mercedes  00:01:19.401000  00:01:19.106000  00:01:18.825000   \n",
      "\n",
      "   Laps  \n",
      "0    21  \n",
      "1    21  \n",
      "2    21  \n",
      "3    20  \n",
      "4    28  \n"
     ]
    }
   ],
   "source": [
    "\n",
    "# define qualifying table\n",
    "# define a function that creates a model for each year (2010, 2011 etc) \n",
    "def create_qualifying_model(year):\n",
    "    class QualifyingResult(Base): \n",
    "        __tablename__ = f'qualifying_results {year}'\n",
    "        __table_args__ =  __table_args__ = (UniqueConstraint('position', 'country', 'year', name='_position_country_year_uc'),)\n",
    "        __table_args__ = {'extend_existing': True}\n",
    "        id: Mapped[int] = mapped_column(Integer, autoincrement = True, primary_key = True)\n",
    "        position: Mapped[str] = mapped_column(String(100))\n",
    "        driver_number: Mapped[int] = mapped_column(Integer)\n",
    "        driver: Mapped[str] = mapped_column(String(255))\n",
    "        car: Mapped[str] = mapped_column(String(255))\n",
    "        Q1: Mapped[str] = mapped_column(String(100))\n",
    "        Q2: Mapped[str] = mapped_column(String(100))\n",
    "        Q3: Mapped[str] = mapped_column(String(100))\n",
    "        laps: Mapped[int] = mapped_column(Integer)\n",
    "        country: Mapped[str] = mapped_column(String(255)) \n",
    "    return QualifyingResult\n",
    "\n",
    "    \n",
    "# create all the tables above in the database\n",
    "Base.metadata.create_all(engine, checkfirst = True)\n",
    "\n",
    "\n",
    "# create a session \n",
    "Session = sessionmaker(bind=engine)\n",
    "session = Session()\n",
    "\n",
    "def convert_time_to_timedelta(time_str):\n",
    "    \"\"\"Convert time string in MM:SS.s format to timedelta.\"\"\"\n",
    "    try:\n",
    "        dt =pd.to_datetime(time_str, format='%M:%S.%f')\n",
    "        return timedelta(minuts=dt.minute, seconds=dt.second, milliseconds=dt.microsecond)\n",
    "    except Exception:\n",
    "        return None \n",
    "        \n",
    "# list of file paths by year\n",
    "qualifying_file_paths = {\n",
    "    2011: \"D:/Data Science Course/F1 project/f1 qualifying 2010 - 2022/F1 qualifying 2011.xlsx\",\n",
    "    2012 : \"D:/Data Science Course/F1 project/f1 qualifying 2010 - 2022/f1 qualifying 2012.xlsx\",\n",
    "    2013: \"D:/Data Science Course/F1 project/f1 qualifying 2010 - 2022/F1 qualifying 2013.xlsx\",\n",
    "    2014: \"D:/Data Science Course/F1 project/f1 qualifying 2010 - 2022/f1 qualifying 2014.xlsx\",\n",
    "    2015: \"D:/Data Science Course/F1 project/f1 qualifying 2010 - 2022/F1 qualifying 2015.xlsx\",\n",
    "    2016: \"D:/Data Science Course/F1 project/f1 qualifying 2010 - 2022/F1 qualifying 2016.xlsx\",\n",
    "    2017: \"D:/Data Science Course/F1 project/f1 qualifying 2010 - 2022/F1 qualifying 2017.xlsx\",\n",
    "    2018: \"D:/Data Science Course/F1 project/f1 qualifying 2010 - 2022/F1 qualifying 2018.xlsx\",\n",
    "    2019: \"D:/Data Science Course/F1 project/f1 qualifying 2010 - 2022/F1 qualifying 2019.xlsx\",\n",
    "    2020: \"D:/Data Science Course/F1 project/f1 qualifying 2010 - 2022/F1 qualifying 2020.xlsx\",\n",
    "    2021: \"D:/Data Science Course/F1 project/f1 qualifying 2010 - 2022/f1 qualifying 2021.xlsx\",\n",
    "    2022: \"D:/Data Science Course/F1 project/f1 qualifying 2010 - 2022/f1 qualifying 2022.xlsx\"\n",
    "} \n",
    "\n",
    "# loop through each year to create the tables and populate with data \n",
    "for year, file_path in qualifying_file_paths.items():\n",
    "    QualifyingResult = create_qualifying_model(year)\n",
    "    QualifyingResult.__table__.create(bind=engine, checkfirst=True)\n",
    "    \n",
    "    # load the data from the all_races excel sheet \n",
    "    df = pd.read_excel(file_path, sheet_name=\"All_races\")\n",
    "    df.columns = df.columns.str.strip() # clean the columns \n",
    "    df= df.drop_duplicates(subset=['Position', 'Country', 'Driver Number', 'Driver', 'Driver Abbreviation', 'Car']) \n",
    "\n",
    "    # print the first rows to confirm population \n",
    "    print(f\"Data for year {year}:\")\n",
    "    print(df.head())\n",
    "\n",
    "    # insert the data for each year \n",
    "\n",
    "    for index, row in df.iterrows():\n",
    "        if pd.isnull(row['Driver']):\n",
    "            print(f\"Skipping row {index} for year {year}: 'Driver'is Null.\") \n",
    "            continue\n",
    "        try: \n",
    "            qualifying_result = QualifyingResult(\n",
    "                country=row['Country'],\n",
    "                position=row['Position'], \n",
    "                driver_number=row['Driver Number'],\n",
    "                driver=row['Driver'],\n",
    "                car=row['Car'],\n",
    "                Q1=row['Q1'],\n",
    "                Q2=row['Q2'],\n",
    "                Q3=row['Q3'],\n",
    "                laps=row['Laps']\n",
    "            )\n",
    "            session.add(qualifying_result)\n",
    "        except Exception as e:\n",
    "            print(f\"Error inserting row {index} for year {year}: {e}\")\n",
    "            session.commit()\n",
    "            print(\"Qualifying table created successfully.\" )\n",
    "session.close()"
   ]
  },
  {
   "cell_type": "code",
   "execution_count": 14,
   "id": "c1f9df6d-9b65-4d5a-a885-9efac1a172e0",
   "metadata": {},
   "outputs": [
    {
     "name": "stdout",
     "output_type": "stream",
     "text": [
      "Data for year 2011:\n",
      "     Country Position  Driver Number            Driver  \\\n",
      "0  Singapore        1              1  Sebastian Vettel   \n",
      "1  Singapore        2              4     Jenson Button   \n",
      "2  Singapore        3              2       Mark Webber   \n",
      "3  Singapore        4              5   Fernando Alonso   \n",
      "4  Singapore        5              3    Lewis Hamilton   \n",
      "\n",
      "               Constructor Laps         Time  \n",
      "0  Red Bull Racing-Renault   61  1:59:06.757  \n",
      "1         McLaren-Mercedes   61       +1.737  \n",
      "2  Red Bull Racing-Renault   61      +29.279  \n",
      "3                  Ferrari   61      +55.449  \n",
      "4         McLaren-Mercedes   61    +1:07.766  \n"
     ]
    },
    {
     "name": "stderr",
     "output_type": "stream",
     "text": [
      "C:\\Users\\Irene Mwaniki\\AppData\\Local\\Temp\\ipykernel_17344\\413141162.py:4: SAWarning: This declarative base already contains a class with the same class name and module name as __main__.RaceResult, and will be replaced in the string-lookup table.\n",
      "  class RaceResult(Base):\n"
     ]
    },
    {
     "name": "stdout",
     "output_type": "stream",
     "text": [
      "Data for year 2012:\n",
      "  Country Position  Driver Number            Driver       Constructor  Laps  \\\n",
      "0   Japan        1              1  Sebastian Vettel  Red Bull-Renault    53   \n",
      "1   Japan        2              6      Felipe Massa           Ferrari    53   \n",
      "2   Japan        3             14   Kamui Kobayashi    Sauber-Ferrari    53   \n",
      "3   Japan        4              3     Jenson Button  McLaren-Mercedes    53   \n",
      "4   Japan        5              4    Lewis Hamilton  McLaren-Mercedes    53   \n",
      "\n",
      "  Time/Retired  \n",
      "0  1:28:56.242  \n",
      "1      +20.632  \n",
      "2      +24.538  \n",
      "3      +25.098  \n",
      "4      +46.490  \n"
     ]
    },
    {
     "name": "stderr",
     "output_type": "stream",
     "text": [
      "C:\\Users\\Irene Mwaniki\\AppData\\Local\\Temp\\ipykernel_17344\\413141162.py:4: SAWarning: This declarative base already contains a class with the same class name and module name as __main__.RaceResult, and will be replaced in the string-lookup table.\n",
      "  class RaceResult(Base):\n"
     ]
    },
    {
     "name": "stdout",
     "output_type": "stream",
     "text": [
      "Data for year 2013:\n",
      "  Country Position  Driver Number            Driver           Constructor  \\\n",
      "0  Monaco        1              9      Nico Rosberg              Mercedes   \n",
      "1  Monaco        2              1  Sebastian Vettel      Red Bull-Renault   \n",
      "2  Monaco        3              2       Mark Webber      Red Bull-Renault   \n",
      "3  Monaco        4             10    Lewis Hamilton              Mercedes   \n",
      "4  Monaco        5             15      Adrian Sutil  Force India-Mercedes   \n",
      "\n",
      "   Laps Time/Retired  \n",
      "0    78  2:17:52.506  \n",
      "1    78      + 3.889  \n",
      "2    78      + 6.314  \n",
      "3    78     + 13.895  \n",
      "4    78     + 21.478  \n"
     ]
    },
    {
     "name": "stderr",
     "output_type": "stream",
     "text": [
      "C:\\Users\\Irene Mwaniki\\AppData\\Local\\Temp\\ipykernel_17344\\413141162.py:4: SAWarning: This declarative base already contains a class with the same class name and module name as __main__.RaceResult, and will be replaced in the string-lookup table.\n",
      "  class RaceResult(Base):\n"
     ]
    },
    {
     "name": "stdout",
     "output_type": "stream",
     "text": [
      "Data for year 2014:\n",
      "     Country Position  Driver Number            Driver  \\\n",
      "0  Singapore        1             44    Lewis Hamilton   \n",
      "1  Singapore        2              1  Sebastian Vettel   \n",
      "2  Singapore        3              3  Daniel Ricciardo   \n",
      "3  Singapore        4             14   Fernando Alonso   \n",
      "4  Singapore        5             19      Felipe Massa   \n",
      "\n",
      "               Constructor  Laps Time/Retired  \n",
      "0                 Mercedes    60  2:00:04.795  \n",
      "1  Red Bull Racing-Renault    60      +13.534  \n",
      "2  Red Bull Racing-Renault    60      +14.273  \n",
      "3                  Ferrari    60      +15.389  \n",
      "4        Williams-Mercedes    60      +42.161  \n"
     ]
    },
    {
     "name": "stderr",
     "output_type": "stream",
     "text": [
      "C:\\Users\\Irene Mwaniki\\AppData\\Local\\Temp\\ipykernel_17344\\413141162.py:4: SAWarning: This declarative base already contains a class with the same class name and module name as __main__.RaceResult, and will be replaced in the string-lookup table.\n",
      "  class RaceResult(Base):\n"
     ]
    },
    {
     "name": "stdout",
     "output_type": "stream",
     "text": [
      "Data for year 2015:\n",
      "  Country Position  Driver Number            Driver           Constructor  \\\n",
      "0     USA        1             44    Lewis Hamilton              Mercedes   \n",
      "1     USA        2              6      Nico Rosberg              Mercedes   \n",
      "2     USA        3              5  Sebastian Vettel               Ferrari   \n",
      "3     USA        4             33    Max Verstappen    Toro Rosso-Renault   \n",
      "4     USA        5             11      Sergio Pérez  Force India-Mercedes   \n",
      "\n",
      "   Laps Time/Retired  \n",
      "0    56  1:50:52.703  \n",
      "1    56       +2.850  \n",
      "2    56       +3.381  \n",
      "3    56      +22.359  \n",
      "4    56      +24.413  \n"
     ]
    },
    {
     "name": "stderr",
     "output_type": "stream",
     "text": [
      "C:\\Users\\Irene Mwaniki\\AppData\\Local\\Temp\\ipykernel_17344\\413141162.py:4: SAWarning: This declarative base already contains a class with the same class name and module name as __main__.RaceResult, and will be replaced in the string-lookup table.\n",
      "  class RaceResult(Base):\n"
     ]
    },
    {
     "name": "stdout",
     "output_type": "stream",
     "text": [
      "Data for year 2016:\n",
      "   Country Position  Driver Number            Driver  \\\n",
      "0  Hungary        1             44    Lewis Hamilton   \n",
      "1  Hungary        2              6      Nico Rosberg   \n",
      "2  Hungary        3              3  Daniel Ricciardo   \n",
      "3  Hungary        4              5  Sebastian Vettel   \n",
      "4  Hungary        5             33    Max Verstappen   \n",
      "\n",
      "                 Constructor  Laps Time/Retired  \n",
      "0                   Mercedes    70  1:40:30.115  \n",
      "1                   Mercedes    70       +1.977  \n",
      "2  Red Bull Racing-TAG Heuer    70      +27.539  \n",
      "3                    Ferrari    70      +28.213  \n",
      "4  Red Bull Racing-TAG Heuer    70      +48.659  \n"
     ]
    },
    {
     "name": "stderr",
     "output_type": "stream",
     "text": [
      "C:\\Users\\Irene Mwaniki\\AppData\\Local\\Temp\\ipykernel_17344\\413141162.py:4: SAWarning: This declarative base already contains a class with the same class name and module name as __main__.RaceResult, and will be replaced in the string-lookup table.\n",
      "  class RaceResult(Base):\n"
     ]
    },
    {
     "name": "stdout",
     "output_type": "stream",
     "text": [
      "Data for year 2017:\n",
      "  Country Position  Driver Number            Driver  \\\n",
      "0   Japan        1             44    Lewis Hamilton   \n",
      "1   Japan        2             33    Max Verstappen   \n",
      "2   Japan        3              3  Daniel Ricciardo   \n",
      "3   Japan        4             77   Valtteri Bottas   \n",
      "4   Japan        5              7    Kimi Räikkönen   \n",
      "\n",
      "                 Constructor  Laps Time/Retired  \n",
      "0                   Mercedes    53  1:27:31.194  \n",
      "1  Red Bull Racing-TAG Heuer    53       +1.211  \n",
      "2  Red Bull Racing-TAG Heuer    53       +9.679  \n",
      "3                   Mercedes    53      +10.580  \n",
      "4                    Ferrari    53      +32.622  \n"
     ]
    },
    {
     "name": "stderr",
     "output_type": "stream",
     "text": [
      "C:\\Users\\Irene Mwaniki\\AppData\\Local\\Temp\\ipykernel_17344\\413141162.py:4: SAWarning: This declarative base already contains a class with the same class name and module name as __main__.RaceResult, and will be replaced in the string-lookup table.\n",
      "  class RaceResult(Base):\n"
     ]
    },
    {
     "name": "stdout",
     "output_type": "stream",
     "text": [
      "Data for year 2018:\n",
      "  Country Position  Driver Number            Driver  \\\n",
      "0  Canada        1              5  Sebastian Vettel   \n",
      "1  Canada        2             77   Valtteri Bottas   \n",
      "2  Canada        3             33    Max Verstappen   \n",
      "3  Canada        4              3  Daniel Ricciardo   \n",
      "4  Canada        5             44    Lewis Hamilton   \n",
      "\n",
      "                 Constructor  Laps Time/Retired  \n",
      "0                    Ferrari    68  1:28:31.377  \n",
      "1                   Mercedes    68       +7.376  \n",
      "2  Red Bull Racing-TAG Heuer    68       +8.360  \n",
      "3  Red Bull Racing-TAG Heuer    68      +20.892  \n",
      "4                   Mercedes    68      +21.559  \n"
     ]
    },
    {
     "name": "stderr",
     "output_type": "stream",
     "text": [
      "C:\\Users\\Irene Mwaniki\\AppData\\Local\\Temp\\ipykernel_17344\\413141162.py:4: SAWarning: This declarative base already contains a class with the same class name and module name as __main__.RaceResult, and will be replaced in the string-lookup table.\n",
      "  class RaceResult(Base):\n"
     ]
    },
    {
     "name": "stdout",
     "output_type": "stream",
     "text": [
      "Data for year 2019:\n",
      "   Country Position  Driver Number            Driver  \\\n",
      "0  Germany        1             33    Max Verstappen   \n",
      "1  Germany        2              5  Sebastian Vettel   \n",
      "2  Germany        3             26      Daniil Kvyat   \n",
      "3  Germany        4             18      Lance Stroll   \n",
      "4  Germany        5             55  Carlos Sainz Jr.   \n",
      "\n",
      "                 Constructor  Laps Time/Retired  \n",
      "0      Red Bull Racing-Honda    64  1:44:31.275  \n",
      "1                    Ferrari    64       +7.333  \n",
      "2  Scuderia Toro Rosso-Honda    64       +8.305  \n",
      "3  Racing Point-BWT Mercedes    64       +8.966  \n",
      "4            McLaren-Renault    64       +9.583  \n"
     ]
    },
    {
     "name": "stderr",
     "output_type": "stream",
     "text": [
      "C:\\Users\\Irene Mwaniki\\AppData\\Local\\Temp\\ipykernel_17344\\413141162.py:4: SAWarning: This declarative base already contains a class with the same class name and module name as __main__.RaceResult, and will be replaced in the string-lookup table.\n",
      "  class RaceResult(Base):\n"
     ]
    },
    {
     "name": "stdout",
     "output_type": "stream",
     "text": [
      "Data for year 2020:\n",
      "   Country Position  Driver Number           Driver  \\\n",
      "0  Hungary        1             44   Lewis Hamilton   \n",
      "1  Hungary        2             33   Max Verstappen   \n",
      "2  Hungary        3             77  Valtteri Bottas   \n",
      "3  Hungary        4             18     Lance Stroll   \n",
      "4  Hungary        5             23  Alexander Albon   \n",
      "\n",
      "                 Constructor  Laps Time/Retired  \n",
      "0                   Mercedes    70  1:36:12.473  \n",
      "1      Red Bull Racing-Honda    70       +8.702  \n",
      "2                   Mercedes    70       +9.452  \n",
      "3  Racing Point-BWT Mercedes    70      +57.579  \n",
      "4      Red Bull Racing-Honda    70    +1:18.316  \n"
     ]
    },
    {
     "name": "stderr",
     "output_type": "stream",
     "text": [
      "C:\\Users\\Irene Mwaniki\\AppData\\Local\\Temp\\ipykernel_17344\\413141162.py:4: SAWarning: This declarative base already contains a class with the same class name and module name as __main__.RaceResult, and will be replaced in the string-lookup table.\n",
      "  class RaceResult(Base):\n"
     ]
    },
    {
     "name": "stdout",
     "output_type": "stream",
     "text": [
      "Data for year 2021:\n",
      "        Country Position  Driver Number            Driver  \\\n",
      "0  Saudi Arabia        1             44    Lewis Hamilton   \n",
      "1  Saudi Arabia        2             33    Max Verstappen   \n",
      "2  Saudi Arabia        3             77   Valtteri Bottas   \n",
      "3  Saudi Arabia        4             31      Esteban Ocon   \n",
      "4  Saudi Arabia        5              3  Daniel Ricciardo   \n",
      "\n",
      "             Constructor  Laps Time/Retired  \n",
      "0               Mercedes    50  2:06:15.185  \n",
      "1  Red Bull Racing-Honda    50     +21.8252  \n",
      "2               Mercedes    50      +27.531  \n",
      "3         Alpine-Renault    50      +27.633  \n",
      "4       McLaren-Mercedes    50      +40.121  \n"
     ]
    },
    {
     "name": "stderr",
     "output_type": "stream",
     "text": [
      "C:\\Users\\Irene Mwaniki\\AppData\\Local\\Temp\\ipykernel_17344\\413141162.py:4: SAWarning: This declarative base already contains a class with the same class name and module name as __main__.RaceResult, and will be replaced in the string-lookup table.\n",
      "  class RaceResult(Base):\n"
     ]
    },
    {
     "name": "stdout",
     "output_type": "stream",
     "text": [
      "Data for year 2022:\n",
      "  Country Position  Driver Number            Driver           Constructor  \\\n",
      "0  Mexico        1              1    Max Verstappen  Red Bull Racing-RBPT   \n",
      "1  Mexico        2             44    Lewis Hamilton              Mercedes   \n",
      "2  Mexico        3             11      Sergio Pérez  Red Bull Racing-RBPT   \n",
      "3  Mexico        4             63    George Russell              Mercedes   \n",
      "4  Mexico        5             55  Carlos Sainz Jr.               Ferrari   \n",
      "\n",
      "   Laps Time/Retired  \n",
      "0    71  1:38:36.729  \n",
      "1    71      +15.186  \n",
      "2    71      +18.097  \n",
      "3    71      +49.431  \n",
      "4    71      +58.123  \n",
      "Race table created successfully.\n"
     ]
    }
   ],
   "source": [
    "# define races table\n",
    "# define a function that creates a model for each year (2010, 2011 etc) \n",
    "def create_race_model(year):\n",
    "    class RaceResult(Base): \n",
    "        __tablename__ = f'race_results {year}'\n",
    "        __table_args__ =  __table_args__ = (UniqueConstraint('position', 'driver number', 'driver', name='_position_country_year_uc'),)\n",
    "        __table_args__ = {'extend_existing': True}\n",
    "        \n",
    "        id: Mapped[int] = mapped_column(Integer, autoincrement = True, primary_key = True)\n",
    "        position: Mapped[str] = mapped_column(String(255))\n",
    "        driver_number: Mapped[int] = mapped_column(Integer)\n",
    "        driver: Mapped[str] = mapped_column(String(255)) \n",
    "        constructor: Mapped[str] = mapped_column(String(255))\n",
    "        laps: Mapped[str] = mapped_column(String(100))\n",
    "        country: Mapped[str] = mapped_column(String(255)) \n",
    "        \n",
    "    return RaceResult\n",
    "\n",
    "    \n",
    "# create all the table in the database  \n",
    "Base.metadata.create_all(engine, checkfirst = True)\n",
    "\n",
    "\n",
    "# create a session \n",
    "Session = sessionmaker(bind=engine)\n",
    "session = Session()\n",
    "\n",
    "             \n",
    "# list of file paths by year\n",
    "race_file_paths = {\n",
    "    2011: \"D:/Data Science Course/F1 project/F1 race list 2010 - 2024/F1 Race Results 2011.xlsx\",\n",
    "    2012: \"D:/Data Science Course/F1 project/F1 race list 2010 - 2024/F1 race results 2012.xlsx\",\n",
    "    2013: \"D:/Data Science Course/F1 project/F1 race list 2010 - 2024/F1 race results 2013.xlsx\",\n",
    "    2014: \"D:/Data Science Course/F1 project/F1 race list 2010 - 2024/F1 Race Results 2014.xlsx\",\n",
    "    2015: \"D:/Data Science Course/F1 project/F1 race list 2010 - 2024/F1 Race Results 2015.xlsx\",\n",
    "    2016: \"D:/Data Science Course/F1 project/F1 race list 2010 - 2024/F1 Race Results 2016.xlsx\",\n",
    "    2017: \"D:/Data Science Course/F1 project/F1 race list 2010 - 2024/F1 Race Results 2017.xlsx\",\n",
    "    2018: \"D:/Data Science Course/F1 project/F1 race list 2010 - 2024/F1 Race Results 2018.xlsx\",\n",
    "    2019: \"D:/Data Science Course/F1 project/F1 race list 2010 - 2024/F1 Race Results 2019.xlsx\",\n",
    "    2020: \"D:/Data Science Course/F1 project/F1 race list 2010 - 2024/F1 Race Results 2020.xlsx\",\n",
    "    2021: \"D:/Data Science Course/F1 project/F1 race list 2010 - 2024/F1 Race Results 2021.xlsx\",\n",
    "    2022: \"D:/Data Science Course/F1 project/F1 race list 2010 - 2024/F1 Race Results 2022.xlsx\"\n",
    "    \n",
    "} \n",
    "\n",
    "# loop through each year to create the tables and populate with data \n",
    "for year, file_path in race_file_paths.items():\n",
    "    RaceResult = create_race_model(year)\n",
    "    RaceResult.__table__.create(bind=engine, checkfirst=True)\n",
    "    \n",
    "    # load the data from the all_races excel sheet \n",
    "    df = pd.read_excel(file_path, sheet_name=\"All_races\")\n",
    "    df.columns = df.columns.str.strip() # clean the columns \n",
    "\n",
    "    # ensure that the correct column names in dropt_duplicates are provided \n",
    "    df= df.drop_duplicates(subset=['Position', 'Country', 'Constructor', 'Driver', 'Driver Number']) \n",
    "\n",
    "    # print the first rows to confirm population \n",
    "    print(f\"Data for year {year}:\")\n",
    "    print(df.head())\n",
    "\n",
    "    # insert the data for each year \n",
    "try: \n",
    "    for index, row in df.iterrows():\n",
    "        if pd.isnull(row['Driver']):\n",
    "            print(f\"Skipping row {index} for year {year}: 'Driver' is NUll.\") \n",
    "            continue\n",
    "            \n",
    "        try: \n",
    "            race_result = RaceResult(\n",
    "                position=row['Position'],\n",
    "                driver_number=row['Driver Number'], \n",
    "                driver=row['Driver'],\n",
    "                constructor=row['Constructor'], \n",
    "                laps=row['Laps'],\n",
    "                country=row['Country'] \n",
    "            )\n",
    "            session.add(race_result)\n",
    "        except Exception as e:\n",
    "            print(f\"Error inserting row {index} for year {year}: {e}\")\n",
    "            session.rollback()\n",
    "            \n",
    "    session.commit()\n",
    "    print(\"Race table created successfully.\")\n",
    "except Exception as e:\n",
    "    print(f\"Error inserting race data: {e}\")\n",
    "    session.rollback()\n",
    "finally:\n",
    "    session.close()"
   ]
  },
  {
   "cell_type": "code",
   "execution_count": null,
   "id": "78ef0f6f-7cdf-4b66-b0c9-120a309347a4",
   "metadata": {},
   "outputs": [],
   "source": []
  },
  {
   "cell_type": "code",
   "execution_count": null,
   "id": "22509e85-515a-49a8-a5be-253948d58b09",
   "metadata": {},
   "outputs": [],
   "source": []
  }
 ],
 "metadata": {
  "kernelspec": {
   "display_name": "Python 3 (ipykernel)",
   "language": "python",
   "name": "python3"
  },
  "language_info": {
   "codemirror_mode": {
    "name": "ipython",
    "version": 3
   },
   "file_extension": ".py",
   "mimetype": "text/x-python",
   "name": "python",
   "nbconvert_exporter": "python",
   "pygments_lexer": "ipython3",
   "version": "3.11.7"
  }
 },
 "nbformat": 4,
 "nbformat_minor": 5
}
